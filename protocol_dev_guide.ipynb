{
 "cells": [
  {
   "cell_type": "markdown",
   "metadata": {},
   "source": [
    "# Opentron Protocol Simple Development Guide\n",
    "Here we will present tips and tricks for developing new protocols and optimizing older protocols. There are essentially two main ways to run the robot. The first method is to use a jupyter notebook launched from the opentron app and the second is to use a python script with the opentron app. <br>\n",
    "I would recommend starting new protocols/debugging old protocols using jupyter notebook for finer control over which step to run. When actually running a full protocol/experiment, python script would be the way to go for final testings."
   ]
  },
  {
   "cell_type": "markdown",
   "metadata": {},
   "source": [
    "# Presets: Defining Labware and Slot Location\n",
    "Beginning a protocol, we first need a defined list of all the labware required. Note that opentron is pretty specific about its labware. Their api have specific api names (ex:'nest_96_wellplate_200ul_flat' for specific labwares that need to match perfectly for the protocol to run without error\n",
    "* Note: If the plates/racks don't match exactly by brand, it should still be fine, you would just need to find the most similar labware in their labware library, and do some calibration to fit that particular labware.\n",
    "* Link to the labware library can be found here: https://labware.opentrons.com/\n",
    "* You also will want to assign a slot number for where the labware will be located.\n"
   ]
  },
  {
   "cell_type": "markdown",
   "metadata": {},
   "source": [
    "# Calibration\n",
    "Once we have the list of labware, we need to calibrate the robot before proceeding with protocol development. As of now, opentron doesn't support robot calibration through jupyter, so the best way is to use a dummy python protocol/script and calibrate it through the opentron app."
   ]
  },
  {
   "cell_type": "markdown",
   "metadata": {},
   "source": [
    "For example: <br>\n",
    "If a 200ul 96 wellplate is need with 300ul tips we can load this dummy python protocol that simply loads all the equipment."
   ]
  },
  {
   "cell_type": "raw",
   "metadata": {},
   "source": [
    "from opentrons import protocol_api, types\n",
    "\n",
    "metadata = {\n",
    "    'apiLevel': '2.8' #Note this may change as we routinely update the robot software\n",
    "}\n",
    "\n",
    "def run(protocol: protocol_api.ProtocolContext): \n",
    "    tiprack = protocol.load_labware('opentrons_96_tiprack_300ul', '1')\n",
    "    plate =protocol.load_labware('nest_96_wellplate_200ul_flat', '2')\n",
    "     \n",
    "    p300 = protocol.load_instrument('p300_single_gen2', 'right', tip_racks=[tiprack])\n",
    "    p300.transfer(100, plate['A1'], plate['B1']) "
   ]
  },
  {
   "cell_type": "markdown",
   "metadata": {},
   "source": [
    "Note we won't be actually running the protocol. Before the run, the Opentron App will prompt you to calibrate the labware and save the calibration. There is no need to actually run the robot."
   ]
  },
  {
   "cell_type": "markdown",
   "metadata": {},
   "source": [
    "# Protocol Development\n",
    "Now that all the labware have been properly calibrated, we can proceed with actually developing the protocol. Note that for cells in this notebook to actually move the robot, the jupyter notebook server must be set up through the Opentron App and not through your terminal. A error message will pop up if you try to run the below code through a server set up on your terminal."
   ]
  },
  {
   "cell_type": "code",
   "execution_count": 2,
   "metadata": {},
   "outputs": [],
   "source": [
    "import opentrons.execute"
   ]
  },
  {
   "cell_type": "code",
   "execution_count": 3,
   "metadata": {
    "collapsed": true,
    "jupyter": {
     "outputs_hidden": true
    }
   },
   "outputs": [
    {
     "name": "stderr",
     "output_type": "stream",
     "text": [
      "This is intended to run on a robot, and while it can connect to a smoothie via a usb/serial adapter unexpected things using gpios (such as smoothie reset or light management) will fail. If you are seeing this message and you are running on a robot, you need to set the RUNNING_ON_PI environmental variable to 1.\n",
      "/Users/JeffreyWang/.opentrons/deck_calibration.json not found. Loading defaults\n",
      "/Users/JeffreyWang/.opentrons/robot_settings.json not found. Loading defaults\n",
      "Failed to initialize character device, will not be able to control gpios (lights, button, smoothiekill, smoothie reset). Only one connection can be made to the gpios at a time. If you need to control gpios, first stop the robot server with systemctl stop opentrons-robot-server. Until you restart the server with systemctl start opentrons-robot-server, you will be unable to control the robot using the Opentrons app.\n",
      "Failed to initiate aionotify, cannot watch modules or door, likely because not running on linux\n",
      "Motor driver could not connect, reprogramming if possible\n",
      "Traceback (most recent call last):\n",
      "  File \"/Applications/anaconda3/envs/opentron/lib/python3.7/site-packages/opentrons/hardware_control/api.py\", line 160, in build_hardware_controller\n",
      "    await backend.connect(port)\n",
      "  File \"/Applications/anaconda3/envs/opentron/lib/python3.7/site-packages/opentrons/hardware_control/controller.py\", line 248, in connect\n",
      "    self._smoothie_driver.connect(port)\n",
      "  File \"/Applications/anaconda3/envs/opentron/lib/python3.7/site-packages/opentrons/drivers/smoothie_drivers/driver_3_0.py\", line 580, in connect\n",
      "    self._connect_to_port(port)\n",
      "  File \"/Applications/anaconda3/envs/opentron/lib/python3.7/site-packages/opentrons/drivers/smoothie_drivers/driver_3_0.py\", line 600, in _connect_to_port\n",
      "    baudrate=self._config.serial_speed\n",
      "  File \"/Applications/anaconda3/envs/opentron/lib/python3.7/site-packages/opentrons/drivers/serial_communication.py\", line 127, in connect\n",
      "    port = get_ports_by_name(device_name=device_name)[0]\n",
      "IndexError: list index out of range\n",
      "Motor controller could not be connected and no firmware was provided for (re)programming\n",
      "Exception in Thread Manager build\n",
      "Traceback (most recent call last):\n",
      "  File \"/Applications/anaconda3/envs/opentron/lib/python3.7/site-packages/opentrons/hardware_control/thread_manager.py\", line 150, in _build_and_start_loop\n",
      "    **kwargs))\n",
      "  File \"/Applications/anaconda3/envs/opentron/lib/python3.7/asyncio/base_events.py\", line 587, in run_until_complete\n",
      "    return future.result()\n",
      "  File \"/Applications/anaconda3/envs/opentron/lib/python3.7/site-packages/opentrons/hardware_control/api.py\", line 177, in build_hardware_controller\n",
      "    raise RuntimeError(msg)\n",
      "RuntimeError: Motor controller could not be connected and no firmware was provided for (re)programming\n"
     ]
    },
    {
     "ename": "ThreadManagerException",
     "evalue": "Failed to create Managed Object",
     "output_type": "error",
     "traceback": [
      "\u001b[0;31m---------------------------------------------------------------------------\u001b[0m",
      "\u001b[0;31mThreadManagerException\u001b[0m                    Traceback (most recent call last)",
      "\u001b[0;32m<ipython-input-3-1e1b36c179b6>\u001b[0m in \u001b[0;36m<module>\u001b[0;34m()\u001b[0m\n\u001b[0;32m----> 1\u001b[0;31m \u001b[0mprotocol\u001b[0m \u001b[0;34m=\u001b[0m \u001b[0mopentrons\u001b[0m\u001b[0;34m.\u001b[0m\u001b[0mexecute\u001b[0m\u001b[0;34m.\u001b[0m\u001b[0mget_protocol_api\u001b[0m\u001b[0;34m(\u001b[0m\u001b[0;34m'2.10'\u001b[0m\u001b[0;34m)\u001b[0m\u001b[0;34m\u001b[0m\u001b[0;34m\u001b[0m\u001b[0m\n\u001b[0m\u001b[1;32m      2\u001b[0m \u001b[0mprotocol\u001b[0m\u001b[0;34m.\u001b[0m\u001b[0mhome\u001b[0m\u001b[0;34m(\u001b[0m\u001b[0;34m)\u001b[0m\u001b[0;34m\u001b[0m\u001b[0;34m\u001b[0m\u001b[0m\n",
      "\u001b[0;32m/Applications/anaconda3/envs/opentron/lib/python3.7/site-packages/opentrons/execute.py\u001b[0m in \u001b[0;36mget_protocol_api\u001b[0;34m(version, bundled_labware, bundled_data, extra_labware)\u001b[0m\n\u001b[1;32m     88\u001b[0m         \u001b[0;31m# you can't control the loop from inside. If we update to\u001b[0m\u001b[0;34m\u001b[0m\u001b[0;34m\u001b[0m\u001b[0;34m\u001b[0m\u001b[0m\n\u001b[1;32m     89\u001b[0m         \u001b[0;31m# IPython 7 we can avoid this, but for now we can't\u001b[0m\u001b[0;34m\u001b[0m\u001b[0;34m\u001b[0m\u001b[0;34m\u001b[0m\u001b[0m\n\u001b[0;32m---> 90\u001b[0;31m         \u001b[0m_THREAD_MANAGED_HW\u001b[0m \u001b[0;34m=\u001b[0m \u001b[0mThreadManager\u001b[0m\u001b[0;34m(\u001b[0m\u001b[0mAPI\u001b[0m\u001b[0;34m.\u001b[0m\u001b[0mbuild_hardware_controller\u001b[0m\u001b[0;34m)\u001b[0m\u001b[0;34m\u001b[0m\u001b[0;34m\u001b[0m\u001b[0m\n\u001b[0m\u001b[1;32m     91\u001b[0m     \u001b[0;32mif\u001b[0m \u001b[0misinstance\u001b[0m\u001b[0;34m(\u001b[0m\u001b[0mversion\u001b[0m\u001b[0;34m,\u001b[0m \u001b[0mstr\u001b[0m\u001b[0;34m)\u001b[0m\u001b[0;34m:\u001b[0m\u001b[0;34m\u001b[0m\u001b[0;34m\u001b[0m\u001b[0m\n\u001b[1;32m     92\u001b[0m         \u001b[0mchecked_version\u001b[0m \u001b[0;34m=\u001b[0m \u001b[0mversion_from_string\u001b[0m\u001b[0;34m(\u001b[0m\u001b[0mversion\u001b[0m\u001b[0;34m)\u001b[0m\u001b[0;34m\u001b[0m\u001b[0;34m\u001b[0m\u001b[0m\n",
      "\u001b[0;32m/Applications/anaconda3/envs/opentron/lib/python3.7/site-packages/opentrons/hardware_control/thread_manager.py\u001b[0m in \u001b[0;36m__init__\u001b[0;34m(self, builder, *args, **kwargs)\u001b[0m\n\u001b[1;32m    126\u001b[0m         \u001b[0mthread\u001b[0m\u001b[0;34m.\u001b[0m\u001b[0mstart\u001b[0m\u001b[0;34m(\u001b[0m\u001b[0;34m)\u001b[0m\u001b[0;34m\u001b[0m\u001b[0;34m\u001b[0m\u001b[0m\n\u001b[1;32m    127\u001b[0m         \u001b[0;32mif\u001b[0m \u001b[0mblocking\u001b[0m\u001b[0;34m:\u001b[0m\u001b[0;34m\u001b[0m\u001b[0;34m\u001b[0m\u001b[0m\n\u001b[0;32m--> 128\u001b[0;31m             \u001b[0mobject\u001b[0m\u001b[0;34m.\u001b[0m\u001b[0m__getattribute__\u001b[0m\u001b[0;34m(\u001b[0m\u001b[0mself\u001b[0m\u001b[0;34m,\u001b[0m \u001b[0;34m'managed_thread_ready_blocking'\u001b[0m\u001b[0;34m)\u001b[0m\u001b[0;34m(\u001b[0m\u001b[0;34m)\u001b[0m\u001b[0;34m\u001b[0m\u001b[0;34m\u001b[0m\u001b[0m\n\u001b[0m\u001b[1;32m    129\u001b[0m \u001b[0;34m\u001b[0m\u001b[0m\n\u001b[1;32m    130\u001b[0m     \u001b[0;32mdef\u001b[0m \u001b[0mmanaged_thread_ready_blocking\u001b[0m\u001b[0;34m(\u001b[0m\u001b[0mself\u001b[0m\u001b[0;34m)\u001b[0m\u001b[0;34m:\u001b[0m\u001b[0;34m\u001b[0m\u001b[0;34m\u001b[0m\u001b[0m\n",
      "\u001b[0;32m/Applications/anaconda3/envs/opentron/lib/python3.7/site-packages/opentrons/hardware_control/thread_manager.py\u001b[0m in \u001b[0;36mmanaged_thread_ready_blocking\u001b[0;34m(self)\u001b[0m\n\u001b[1;32m    131\u001b[0m         \u001b[0mobject\u001b[0m\u001b[0;34m.\u001b[0m\u001b[0m__getattribute__\u001b[0m\u001b[0;34m(\u001b[0m\u001b[0mself\u001b[0m\u001b[0;34m,\u001b[0m \u001b[0;34m'_is_running'\u001b[0m\u001b[0;34m)\u001b[0m\u001b[0;34m.\u001b[0m\u001b[0mwait\u001b[0m\u001b[0;34m(\u001b[0m\u001b[0;34m)\u001b[0m\u001b[0;34m\u001b[0m\u001b[0;34m\u001b[0m\u001b[0m\n\u001b[1;32m    132\u001b[0m         \u001b[0;32mif\u001b[0m \u001b[0;32mnot\u001b[0m \u001b[0mobject\u001b[0m\u001b[0;34m.\u001b[0m\u001b[0m__getattribute__\u001b[0m\u001b[0;34m(\u001b[0m\u001b[0mself\u001b[0m\u001b[0;34m,\u001b[0m \u001b[0;34m'managed_obj'\u001b[0m\u001b[0;34m)\u001b[0m\u001b[0;34m:\u001b[0m\u001b[0;34m\u001b[0m\u001b[0;34m\u001b[0m\u001b[0m\n\u001b[0;32m--> 133\u001b[0;31m             \u001b[0;32mraise\u001b[0m \u001b[0mThreadManagerException\u001b[0m\u001b[0;34m(\u001b[0m\u001b[0;34m\"Failed to create Managed Object\"\u001b[0m\u001b[0;34m)\u001b[0m\u001b[0;34m\u001b[0m\u001b[0;34m\u001b[0m\u001b[0m\n\u001b[0m\u001b[1;32m    134\u001b[0m \u001b[0;34m\u001b[0m\u001b[0m\n\u001b[1;32m    135\u001b[0m     \u001b[0;32masync\u001b[0m \u001b[0;32mdef\u001b[0m \u001b[0mmanaged_thread_ready_async\u001b[0m\u001b[0;34m(\u001b[0m\u001b[0mself\u001b[0m\u001b[0;34m)\u001b[0m\u001b[0;34m:\u001b[0m\u001b[0;34m\u001b[0m\u001b[0;34m\u001b[0m\u001b[0m\n",
      "\u001b[0;31mThreadManagerException\u001b[0m: Failed to create Managed Object"
     ]
    }
   ],
   "source": [
    "protocol = opentrons.execute.get_protocol_api('2.10') #Make sure this api version matches your robot's current software version.\n",
    "protocol.home()"
   ]
  },
  {
   "cell_type": "markdown",
   "metadata": {},
   "source": [
    "Note: Whenever get_protocol_api is called, the robot will return a new ProtocolContext and reset the state of the system.\n",
    "Before moving the robot (for the first time), `protocol.home()` must be called."
   ]
  },
  {
   "cell_type": "markdown",
   "metadata": {},
   "source": [
    "The best way to develop your protocol is to modularize all the steps into functions, so that repeated/similar steps can be easily called (with some changes in the arguments).\n"
   ]
  },
  {
   "cell_type": "markdown",
   "metadata": {},
   "source": [
    "## Load Labware and Instrument\n",
    "First step is to load the labware and instruments."
   ]
  },
  {
   "cell_type": "code",
   "execution_count": null,
   "metadata": {},
   "outputs": [],
   "source": [
    "#Labware\n",
    "tiprack = protocol.load_labware('opentrons_96_tiprack_300ul', '1') #'1' and '2' refer to the physical location on the robot deck\n",
    "plate = protocol.load_labware('nest_96_wellplate_200ul_flat', '2')\n",
    "\n",
    "# Instrument (pipettes)\n",
    "p300 = protocol.load_instrument('p300_multi_gen2', 'right', tip_racks=[tiprack])\n",
    "\n",
    "#Modules (magnet, temp (hot/cold plate), thermocycler)\n",
    "magnetic_module = protocol.load_module('magnetic module gen2', '1') #Note we have gen2 module\n",
    "magnetic_module.disengage()"
   ]
  },
  {
   "cell_type": "markdown",
   "metadata": {},
   "source": [
    "Note: Plate wells are named A1, A2, A3.. for the first row of the plate and B1 for second row and so on..."
   ]
  },
  {
   "cell_type": "markdown",
   "metadata": {},
   "source": [
    "## Step1: Example\n",
    "You will want to test all the code to make sure the robot does exactly what you want before wrapping the steps in a functional step."
   ]
  },
  {
   "cell_type": "raw",
   "metadata": {},
   "source": [
    "#Start Here\n",
    "left_300_pipette.flow_rate.aspirate = aspirate_speed\n",
    "left_300_pipette.flow_rate.dispense = dispense_speed\n",
    "for x in range(num_column):\n",
    "    load_tips()\n",
    "    if x == 0:\n",
    "        left_300_pipette.mix(mix_num, mix_amount, DNA_RNA_Lysis_Buffer_well)\n",
    "    left_300_pipette.aspirate(transfer_amount, DNA_RNA_Lysis_Buffer_well)\n",
    "    left_300_pipette.dispense(transfer_amount, reaction_plate[sample_column_list[x]])\n",
    "    mixing(180, 5, x)\n",
    "    left_300_pipette.move_to(reaction_plate[sample_column_list[x]].top(-5))\n",
    "    protocol.delay(seconds=3)\n",
    "    left_300_pipette.blow_out(reaction_plate[sample_column_list[x]].top(-5))\n",
    "    discard_tips()"
   ]
  },
  {
   "cell_type": "markdown",
   "metadata": {},
   "source": [
    "Place in function to represent in a step."
   ]
  },
  {
   "cell_type": "code",
   "execution_count": null,
   "metadata": {},
   "outputs": [],
   "source": [
    "def DNA_RNA_lysis_buffer_transfer(transfer_amount, mix_num, mix_amount, aspirate_speed, dispense_speed):\n",
    "    global well_list\n",
    "    global num_column\n",
    "    global sample_column_list\n",
    "    left_300_pipette.flow_rate.aspirate = aspirate_speed\n",
    "    left_300_pipette.flow_rate.dispense = dispense_speed\n",
    "    for x in range(num_column):\n",
    "        load_tips()\n",
    "        if x == 0:\n",
    "            left_300_pipette.mix(mix_num, mix_amount, DNA_RNA_Lysis_Buffer_well)\n",
    "\n",
    "        left_300_pipette.aspirate(transfer_amount, DNA_RNA_Lysis_Buffer_well)\n",
    "        left_300_pipette.dispense(transfer_amount, reaction_plate[sample_column_list[x]])\n",
    "        mixing(180, 5, x)\n",
    "        left_300_pipette.move_to(reaction_plate[sample_column_list[x]].top(-5))\n",
    "        protocol.delay(seconds=3)\n",
    "        left_300_pipette.blow_out(reaction_plate[sample_column_list[x]].top(-5))\n",
    "        discard_tips()"
   ]
  },
  {
   "cell_type": "code",
   "execution_count": null,
   "metadata": {},
   "outputs": [],
   "source": [
    "#Sample call within the run function would like this.\n",
    "protocol.comment(\" \")\n",
    "protocol.comment(\"DNA and RNA Lysis Buffer Transfer\")\n",
    "protocol.comment(\" \")\n",
    "DNA_RNA_lysis_buffer_transfer(200, 3, 100, 50, 100)"
   ]
  },
  {
   "cell_type": "markdown",
   "metadata": {},
   "source": [
    "Repeat for each step."
   ]
  },
  {
   "cell_type": "markdown",
   "metadata": {},
   "source": [
    "# Compile Everything into a Single Protocol in a Python Script"
   ]
  },
  {
   "cell_type": "markdown",
   "metadata": {},
   "source": [
    "Components:\n",
    "1. Package required: `from opentrons import protocol_api, types`\n",
    "2. Metadata dictionary describing the protocol and the current api version. Look into the Opentron app to see what api version to specifiy.\n",
    "3. Main run function that encapsulates all the steps."
   ]
  },
  {
   "cell_type": "raw",
   "metadata": {},
   "source": [
    "# Metadata Example\n",
    "metadata = {\n",
    "    'protocol name': 'Sample Protocol',\n",
    "    'author': 'J. Wang',\n",
    "    'description': 'Protocol for XYZ',\n",
    "    'apiLevel': '2.7'\n",
    "}\n"
   ]
  },
  {
   "cell_type": "raw",
   "metadata": {},
   "source": [
    "# Simple run function example.\n",
    "\n",
    "def run(protocol: protocol_api.ProtocolContext): \n",
    "    tiprack = protocol.load_labware('opentrons_96_tiprack_300ul', '1')\n",
    "    plate =protocol.load_labware('nest_96_wellplate_200ul_flat', '2')\n",
    "    p300 = protocol.load_instrument('p300_single_gen2', 'right', tip_racks=[tiprack])\n",
    "    p300.transfer(100, plate['A1'], plate['B1']) "
   ]
  },
  {
   "cell_type": "markdown",
   "metadata": {},
   "source": [
    "### Multiple Samples\n",
    "We currently have pipettes with 8 multi-channels. Work with multiple samples, I would include a sample_num/col_num delineating how many columns of (8) samples you want the protocol to run. Once the logic for each protocl step is done you can simply loop through the number of columns."
   ]
  },
  {
   "cell_type": "raw",
   "metadata": {},
   "source": [
    "# For example\n",
    "for x in range(plate_column):\n",
    "    load_tips()\n",
    "    for i in range(5):\n",
    "        left_300_pipette.aspirate(transfer_amount/5, reaction_plate[sample_column_list[x]].bottom().move(types.Point(x=-1, y=0, z=magwell_height))) #Aspirate 175 microliter per time.\n",
    "        left_300_pipette.dispense(transfer_amount/5 + 50, liquid_waste.top(-2)) #Extra 50 dispense to prevent dripping.\n",
    "        protocol.delay(seconds=3)\n",
    "        left_300_pipette.blow_out(liquid_waste.top(-2))"
   ]
  },
  {
   "cell_type": "markdown",
   "metadata": {},
   "source": [
    "# Test Mode:\n",
    "One thing I like to do is include a test mode setting in the protocol to run water tests. This is mainly to conserve tips and labware."
   ]
  },
  {
   "cell_type": "code",
   "execution_count": null,
   "metadata": {},
   "outputs": [],
   "source": [
    "def load_tips():\n",
    "    if test_mode:\n",
    "        if tr_200[0].next_tip(num_tips=8):\n",
    "            left_300_pipette.pick_up_tip()\n",
    "        else:\n",
    "            left_300_pipette.reset_tipracks() #Reset tiprack[0] to keep using.\n",
    "            left_300_pipette.pick_up_tip()\n",
    "    else:\n",
    "        left_300_pipette.pick_up_tip()"
   ]
  },
  {
   "cell_type": "code",
   "execution_count": null,
   "metadata": {},
   "outputs": [],
   "source": [
    "#To prevent unncessary wastes during testing we write a discard tip function\n",
    "def discard_tips():\n",
    "    if test_mode:\n",
    "        left_300_pipette.move_to(liquid_waste.top(-2))\n",
    "        protocol.delay(seconds=3)\n",
    "        left_300_pipette.blow_out(liquid_waste.top(-2))\n",
    "        left_300_pipette.return_tip()\n",
    "    else:\n",
    "        left_300_pipette.drop_tip()"
   ]
  },
  {
   "cell_type": "markdown",
   "metadata": {},
   "source": [
    "# Useful Methods:"
   ]
  },
  {
   "cell_type": "code",
   "execution_count": null,
   "metadata": {},
   "outputs": [],
   "source": [
    "def mixing(amount, rep, well_num, aspirate_speed=150, dispense_speed=300): #Default for robot is 150 and 300\n",
    "    left_300_pipette.flow_rate.aspirate = aspirate_speed\n",
    "    left_300_pipette.flow_rate.dispense = dispense_speed\n",
    "    loc1 = reaction_plate[sample_column_list[well_num]].bottom().move(types.Point(x=1, y =0, z=.6)) #May need to change reaction_plate to work for your protocol.\n",
    "    loc2 = reaction_plate[sample_column_list[well_num]].bottom().move(types.Point(x=1, y =0, z=5.5))\n",
    "    left_300_pipette.aspirate(20, loc1)\n",
    "    for x in range(rep):\n",
    "        left_300_pipette.aspirate(amount, loc1)\n",
    "        left_300_pipette.dispense(amount, loc2)\n",
    "    left_300_pipette.dispense(20, loc2)\n",
    "    left_300_pipette.flow_rate.aspirate = 50\n",
    "    left_300_pipette.flow_rate.dispense = 100"
   ]
  },
  {
   "cell_type": "markdown",
   "metadata": {},
   "source": [
    "### Opentron defaults:\n",
    "Below are some defaults that are useful, copied from their documentation: https://docs.opentrons.com/v2/new_atomic_commands.html\n",
    "<br> These are methods that will be used most often during protocol development.\n",
    "#### Eliminating droplets\n",
    "Often times tips will have droplet after dispensing. I would recommend using either blow out or touch tip to prevent any dripping."
   ]
  },
  {
   "cell_type": "code",
   "execution_count": null,
   "metadata": {},
   "outputs": [],
   "source": [
    "pipette.blow_out()            # blow out in current location"
   ]
  },
  {
   "cell_type": "code",
   "execution_count": null,
   "metadata": {},
   "outputs": [],
   "source": [
    "pipette.touch_tip()            # touch tip within current location to the nearest wall of the plate/well\n",
    "pipette.touch_tip(v_offset=-2) # touch tip 2mm below the top of the current location"
   ]
  },
  {
   "cell_type": "markdown",
   "metadata": {},
   "source": [
    "#### Mix\n",
    "Will mix but pipette won't move (i.e: up and down) while mixing. Hence the user defined mixing method, which may be needed when working with suspensions that may settle with time."
   ]
  },
  {
   "cell_type": "code",
   "execution_count": null,
   "metadata": {},
   "outputs": [],
   "source": [
    "pipette.mix(4, 100, plate.['A2']) "
   ]
  },
  {
   "cell_type": "markdown",
   "metadata": {},
   "source": [
    "#### Delay\n",
    "Some protocols will require delay while a instrument module is engaged (ex: using a heatblock or a magnet)."
   ]
  },
  {
   "cell_type": "code",
   "execution_count": null,
   "metadata": {},
   "outputs": [],
   "source": [
    "protocol.delay(seconds=2)             # pause for 2 seconds\n",
    "protocol.delay(minutes=5)             # pause for 5 minutes"
   ]
  },
  {
   "cell_type": "markdown",
   "metadata": {},
   "source": [
    "#### User-defined pauses\n",
    "Use this function when you need an undefined pause time to either switch out lab equipment/samples or do any benchwork. To continue with protocol clikc resume on the Opentron App."
   ]
  },
  {
   "cell_type": "code",
   "execution_count": null,
   "metadata": {},
   "outputs": [],
   "source": [
    "protocol.pause('Switch plates')"
   ]
  }
 ],
 "metadata": {
  "kernelspec": {
   "display_name": "Python [conda env:DualNets]",
   "language": "python",
   "name": "conda-env-DualNets-py"
  },
  "language_info": {
   "codemirror_mode": {
    "name": "ipython",
    "version": 3
   },
   "file_extension": ".py",
   "mimetype": "text/x-python",
   "name": "python",
   "nbconvert_exporter": "python",
   "pygments_lexer": "ipython3",
   "version": "3.7.6"
  }
 },
 "nbformat": 4,
 "nbformat_minor": 4
}
